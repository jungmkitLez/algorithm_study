{
 "cells": [
  {
   "cell_type": "code",
   "execution_count": 3,
   "id": "infrared-peripheral",
   "metadata": {
    "ExecuteTime": {
     "end_time": "2021-09-23T13:27:54.961336Z",
     "start_time": "2021-09-23T13:27:54.950337Z"
    }
   },
   "outputs": [
    {
     "name": "stdout",
     "output_type": "stream",
     "text": [
      "Iteration: 10 ; cost = 282.5564\n",
      "Iteration: 20 ; cost = 10.6912\n",
      "Iteration: 30 ; cost = 10.0426\n",
      "[64.60874174]\n"
     ]
    }
   ],
   "source": [
    "import math\n",
    "\n",
    "\n",
    "class MLE():\n",
    "    def __init__(self, samples, m, std, learning_rate, epochs, verbose=False):\n",
    "        \"\"\"\n",
    "        :param samples: samples for get MLE\n",
    "        :param learning_rate: alpha on weight update\n",
    "        :param epochs: training epochs\n",
    "        :param verbose: print status\n",
    "        \"\"\"\n",
    "        self._samples = samples\n",
    "        self._m = m\n",
    "        self._std = std\n",
    "        self._learning_rate = learning_rate\n",
    "        self._epochs = epochs\n",
    "        self._verbose = verbose\n",
    "\n",
    "\n",
    "    def likelihood(self, x, M):\n",
    "        \"\"\"\n",
    "        Probability Density Function is Normal distribution\n",
    "        PDF's y is same as likelihood\n",
    "\n",
    "        :param x:\n",
    "        :return: likelihood of input x (likelihood of input x is same as y of pdf)\n",
    "        \"\"\"\n",
    "        return (1 / math.sqrt(2*math.pi) * math.pow(self._std, 2)) * np.exp(-(np.power(x - M, 2) / (2*math.pow(self._std, 2))))\n",
    "\n",
    "\n",
    "    def fit(self):\n",
    "        \"\"\"\n",
    "        training estimator\n",
    "        M, which minimizes Likelihood, is obtained by the gradient descent method.\n",
    "        M is the MLE of the samples\n",
    "        \"\"\"\n",
    "\n",
    "        # init M\n",
    "        self._estimator = np.random.normal(self._m, self._std, 1)\n",
    "\n",
    "        # train while epochs\n",
    "        self._training_process = []\n",
    "        for epoch in range(self._epochs):\n",
    "            likelihood = np.prod(self.likelihood(self._samples, self._m))\n",
    "            prediction = np.prod(self.likelihood(self._samples, self._estimator))\n",
    "            cost = self.cost(likelihood, prediction)\n",
    "            self._training_process.append((epoch, cost))\n",
    "            self.update(self._samples, self._estimator)\n",
    "\n",
    "            # print status\n",
    "            if self._verbose == True and ((epoch + 1) % 10 == 0):\n",
    "                print(\"Iteration: %d ; cost = %.4f\" % (epoch + 1, cost))\n",
    "\n",
    "\n",
    "    def cost(self, likelihood, prediction):\n",
    "        \"\"\"\n",
    "        cost function\n",
    "        :param likelihood: likelihood of population\n",
    "        :param prediction: likelihood in samples\n",
    "        :return: the cost of optimizing the parameters\n",
    "        \"\"\"\n",
    "        return math.sqrt(likelihood - prediction)\n",
    "\n",
    "\n",
    "    def update(self, x, M):\n",
    "        \"\"\"\n",
    "        update in gradient descent\n",
    "        gradient is approximated\n",
    "        :param x: samples\n",
    "        :param M: estimator\n",
    "        \"\"\"\n",
    "        gradient = np.sum(np.exp(-(np.power(x - M, 2) / (2*math.pow(self._std, 2)))))\n",
    "        if self._m > self._estimator:\n",
    "            self._estimator += self._learning_rate * gradient\n",
    "        else:\n",
    "            self._estimator -= self._learning_rate * gradient\n",
    "\n",
    "\n",
    "    def get_mle(self):\n",
    "        \"\"\"\n",
    "        parameter getter\n",
    "        :return: estimator of MLE\n",
    "        \"\"\"\n",
    "        return self._estimator\n",
    "\n",
    "\n",
    "# run example\n",
    "if __name__ == \"__main__\":\n",
    "\n",
    "    # samples for MLE\n",
    "    samples = np.array([64, 64.5, 65, 65.5, 66])\n",
    "\n",
    "    # assumptions about the population\n",
    "    mean = np.array([65.0])\n",
    "    std = 5\n",
    "\n",
    "    # get MLE\n",
    "    estimator = MLE(samples, mean, std, learning_rate=0.1, epochs=30, verbose=True)\n",
    "    estimator.fit()\n",
    "    result = estimator.get_mle()\n",
    "    print(result)"
   ]
  }
 ],
 "metadata": {
  "kernelspec": {
   "display_name": "Python 3",
   "language": "python",
   "name": "python3"
  },
  "language_info": {
   "codemirror_mode": {
    "name": "ipython",
    "version": 3
   },
   "file_extension": ".py",
   "mimetype": "text/x-python",
   "name": "python",
   "nbconvert_exporter": "python",
   "pygments_lexer": "ipython3",
   "version": "3.9.1"
  },
  "toc": {
   "base_numbering": 1,
   "nav_menu": {},
   "number_sections": true,
   "sideBar": true,
   "skip_h1_title": false,
   "title_cell": "Table of Contents",
   "title_sidebar": "Contents",
   "toc_cell": false,
   "toc_position": {},
   "toc_section_display": true,
   "toc_window_display": false
  },
  "varInspector": {
   "cols": {
    "lenName": 16,
    "lenType": 16,
    "lenVar": 40
   },
   "kernels_config": {
    "python": {
     "delete_cmd_postfix": "",
     "delete_cmd_prefix": "del ",
     "library": "var_list.py",
     "varRefreshCmd": "print(var_dic_list())"
    },
    "r": {
     "delete_cmd_postfix": ") ",
     "delete_cmd_prefix": "rm(",
     "library": "var_list.r",
     "varRefreshCmd": "cat(var_dic_list()) "
    }
   },
   "types_to_exclude": [
    "module",
    "function",
    "builtin_function_or_method",
    "instance",
    "_Feature"
   ],
   "window_display": false
  }
 },
 "nbformat": 4,
 "nbformat_minor": 5
}
