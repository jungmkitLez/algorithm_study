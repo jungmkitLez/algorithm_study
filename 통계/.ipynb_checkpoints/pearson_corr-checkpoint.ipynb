{
 "cells": [
  {
   "cell_type": "code",
   "execution_count": 1,
   "id": "a0654612",
   "metadata": {
    "ExecuteTime": {
     "end_time": "2021-09-30T05:34:58.014595Z",
     "start_time": "2021-09-30T05:34:57.706089Z"
    }
   },
   "outputs": [],
   "source": [
    "import numpy as np\n",
    "\n",
    "x = np.array([1,2,3,4,5])\n",
    "y = np.array([1,4,5,6,9])"
   ]
  },
  {
   "cell_type": "code",
   "execution_count": null,
   "id": "9a4f7a0e",
   "metadata": {},
   "outputs": [],
   "source": [
    "def pearson_cor(x,y):\n",
    "    x_bar = np.mean(x)\n",
    "    y_bar = np.mean(y)\n",
    "    \n",
    "    Cov = np.sum([(x-x_bar)*(y-y_bar) for x,y in zip(x,y)]) / (len(x)-1)\n",
    "    print(Cov)"
   ]
  }
 ],
 "metadata": {
  "kernelspec": {
   "display_name": "Python 3 (ipykernel)",
   "language": "python",
   "name": "python3"
  },
  "language_info": {
   "codemirror_mode": {
    "name": "ipython",
    "version": 3
   },
   "file_extension": ".py",
   "mimetype": "text/x-python",
   "name": "python",
   "nbconvert_exporter": "python",
   "pygments_lexer": "ipython3",
   "version": "3.9.6"
  },
  "toc": {
   "base_numbering": 1,
   "nav_menu": {},
   "number_sections": true,
   "sideBar": true,
   "skip_h1_title": false,
   "title_cell": "Table of Contents",
   "title_sidebar": "Contents",
   "toc_cell": false,
   "toc_position": {},
   "toc_section_display": true,
   "toc_window_display": false
  }
 },
 "nbformat": 4,
 "nbformat_minor": 5
}
