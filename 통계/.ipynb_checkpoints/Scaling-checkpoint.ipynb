{
 "cells": [
  {
   "cell_type": "code",
   "execution_count": 1,
   "id": "stable-series",
   "metadata": {
    "ExecuteTime": {
     "end_time": "2021-11-11T13:40:31.922803Z",
     "start_time": "2021-11-11T13:40:31.918803Z"
    }
   },
   "outputs": [],
   "source": [
    "import numpy"
   ]
  },
  {
   "cell_type": "markdown",
   "id": "pacific-pharmaceutical",
   "metadata": {},
   "source": [
    "# Min-Max Scaler"
   ]
  },
  {
   "cell_type": "code",
   "execution_count": 2,
   "id": "better-background",
   "metadata": {
    "ExecuteTime": {
     "end_time": "2021-11-11T13:41:48.440446Z",
     "start_time": "2021-11-11T13:41:48.424447Z"
    }
   },
   "outputs": [],
   "source": [
    "def min_max_scaler(x):\n",
    "    max_val = np.max(x)\n",
    "    min_val = np.min(x)\n",
    "    \n",
    "    return [(data-min_val)/(max_val+min_val) for data in x]"
   ]
  },
  {
   "cell_type": "markdown",
   "id": "viral-closure",
   "metadata": {},
   "source": [
    "# Standard Scaler"
   ]
  },
  {
   "cell_type": "code",
   "execution_count": 4,
   "id": "subjective-detail",
   "metadata": {
    "ExecuteTime": {
     "end_time": "2021-11-11T13:43:37.505999Z",
     "start_time": "2021-11-11T13:43:37.501000Z"
    }
   },
   "outputs": [],
   "source": [
    "def standard_scaler(x):\n",
    "    mean_val = np.mean(x)\n",
    "    std_val = np.std(x)\n",
    "    \n",
    "    return [(data-mean_val)/std_val for data in x]"
   ]
  },
  {
   "cell_type": "markdown",
   "id": "right-small",
   "metadata": {},
   "source": [
    "# Robust Scaler"
   ]
  },
  {
   "cell_type": "code",
   "execution_count": 6,
   "id": "traditional-village",
   "metadata": {
    "ExecuteTime": {
     "end_time": "2021-11-11T13:48:23.488602Z",
     "start_time": "2021-11-11T13:48:23.477603Z"
    }
   },
   "outputs": [],
   "source": [
    "def robust_scaler(x):\n",
    "    median_val = np.median(x)\n",
    "    q1 = np.quantile(x,0.25)\n",
    "    q3 = np.quantile(x,0.75)\n",
    "    \n",
    "    return [(data-median_val)/(q3-q1) for data in x]"
   ]
  }
 ],
 "metadata": {
  "kernelspec": {
   "display_name": "Python 3",
   "language": "python",
   "name": "python3"
  },
  "language_info": {
   "codemirror_mode": {
    "name": "ipython",
    "version": 3
   },
   "file_extension": ".py",
   "mimetype": "text/x-python",
   "name": "python",
   "nbconvert_exporter": "python",
   "pygments_lexer": "ipython3",
   "version": "3.9.1"
  },
  "toc": {
   "base_numbering": 1,
   "nav_menu": {},
   "number_sections": true,
   "sideBar": true,
   "skip_h1_title": false,
   "title_cell": "Table of Contents",
   "title_sidebar": "Contents",
   "toc_cell": false,
   "toc_position": {},
   "toc_section_display": true,
   "toc_window_display": false
  },
  "varInspector": {
   "cols": {
    "lenName": 16,
    "lenType": 16,
    "lenVar": 40
   },
   "kernels_config": {
    "python": {
     "delete_cmd_postfix": "",
     "delete_cmd_prefix": "del ",
     "library": "var_list.py",
     "varRefreshCmd": "print(var_dic_list())"
    },
    "r": {
     "delete_cmd_postfix": ") ",
     "delete_cmd_prefix": "rm(",
     "library": "var_list.r",
     "varRefreshCmd": "cat(var_dic_list()) "
    }
   },
   "types_to_exclude": [
    "module",
    "function",
    "builtin_function_or_method",
    "instance",
    "_Feature"
   ],
   "window_display": false
  }
 },
 "nbformat": 4,
 "nbformat_minor": 5
}
