{
 "cells": [
  {
   "cell_type": "code",
   "execution_count": 25,
   "id": "cebae806",
   "metadata": {
    "ExecuteTime": {
     "end_time": "2021-09-30T06:00:04.366366Z",
     "start_time": "2021-09-30T06:00:04.360929Z"
    }
   },
   "outputs": [],
   "source": [
    "from scipy.stats import spearmanr\n",
    "import numpy as np\n",
    "from collections import defaultdict"
   ]
  },
  {
   "cell_type": "code",
   "execution_count": 37,
   "id": "f7841ddb",
   "metadata": {
    "ExecuteTime": {
     "end_time": "2021-09-30T06:08:29.607923Z",
     "start_time": "2021-09-30T06:08:29.598831Z"
    }
   },
   "outputs": [],
   "source": [
    "x = np.array([1,2,3,4,5])\n",
    "y = np.array([3,7,6,7,8])"
   ]
  },
  {
   "cell_type": "code",
   "execution_count": 39,
   "id": "74581f30",
   "metadata": {
    "ExecuteTime": {
     "end_time": "2021-09-30T06:08:34.549328Z",
     "start_time": "2021-09-30T06:08:34.540221Z"
    }
   },
   "outputs": [
    {
     "data": {
      "text/plain": [
       "SpearmanrResult(correlation=0.8207826816681233, pvalue=0.08858700531354381)"
      ]
     },
     "execution_count": 39,
     "metadata": {},
     "output_type": "execute_result"
    }
   ],
   "source": [
    "spearmanr(x,y)"
   ]
  },
  {
   "cell_type": "code",
   "execution_count": 45,
   "id": "af8df198",
   "metadata": {
    "ExecuteTime": {
     "end_time": "2021-09-30T06:14:07.421699Z",
     "start_time": "2021-09-30T06:14:07.411526Z"
    }
   },
   "outputs": [
    {
     "data": {
      "text/plain": [
       "1.0"
      ]
     },
     "execution_count": 45,
     "metadata": {},
     "output_type": "execute_result"
    }
   ],
   "source": [
    "def spaerman_corr(x,y):\n",
    "    x_rank = defaultdict(list)\n",
    "    y_rank = defaultdict(list)\n",
    "    \n",
    "    for i,data in enumerate(x):\n",
    "        x_rank[data].append(i)\n",
    "        \n",
    "    for i,data in enumerate(y):\n",
    "        y_rank[data].append(i)\n",
    "        \n",
    "    ssd = np.sum([ x_rank[x].pop(0) - y_rank[y].pop(0) for x,y in zip(sorted(x),sorted(y))])\n",
    "    \n",
    "    p = 1 - (ssd*6)/(len(x)*(np.square(len(x))-1))\n",
    "    \n",
    "    return p\n",
    "\n",
    "spaerman_corr(x,y)"
   ]
  }
 ],
 "metadata": {
  "kernelspec": {
   "display_name": "Python 3 (ipykernel)",
   "language": "python",
   "name": "python3"
  },
  "language_info": {
   "codemirror_mode": {
    "name": "ipython",
    "version": 3
   },
   "file_extension": ".py",
   "mimetype": "text/x-python",
   "name": "python",
   "nbconvert_exporter": "python",
   "pygments_lexer": "ipython3",
   "version": "3.9.6"
  },
  "toc": {
   "base_numbering": 1,
   "nav_menu": {},
   "number_sections": true,
   "sideBar": true,
   "skip_h1_title": false,
   "title_cell": "Table of Contents",
   "title_sidebar": "Contents",
   "toc_cell": false,
   "toc_position": {},
   "toc_section_display": true,
   "toc_window_display": false
  }
 },
 "nbformat": 4,
 "nbformat_minor": 5
}
